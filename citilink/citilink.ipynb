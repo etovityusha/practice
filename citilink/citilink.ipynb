{
 "cells": [
  {
   "cell_type": "markdown",
   "metadata": {},
   "source": [
    "Перед вами 2 социологических опроса в разных городах. Анализ этих опросов заказал провайдер, который занимается предоставлением услуг Интернета и Телевидения. Провайдер планирует появиться в этих городах. Анализ результатов повлияет на решение о строительстве сети связи и активного продвижения в одном или обоих городах.\n",
    "Цель опросов – определить текущую рыночную ситуацию в городе по услугам Интернет и ТВ.\n",
    "Нужно:\n",
    "1.\tПодготовить исходные данные для анализа.\n",
    "2.\tПроанализировать результаты в разных разрезах (по среднему чеку, по долям рынка, по проникновению услуг и т.д.).\n",
    "3.\tТолько на основе анализа опросов высказать обоснованную рекомендацию о продвижении в одном или обоих городах. \n",
    "4.\t\n",
    "*Используемые сокращения:\n",
    "ТРИ – Триколор\n",
    "РОС(Т) – Ростелеком\n",
    "ИНФО(Т) – Инфотелеком\n",
    "АНТ – Антенна\n",
    "ТТК – Транстелеком\n",
    "Спут – спутниковое ТВ\n",
    "Каб – кабельное ТВ\n"
   ]
  },
  {
   "cell_type": "code",
   "execution_count": 3,
   "metadata": {},
   "outputs": [],
   "source": [
    "import pandas as pd\n",
    "import seaborn as sns\n",
    "import matplotlib.pyplot as plt\n",
    "import numpy as np\n",
    "%matplotlib inline"
   ]
  },
  {
   "cell_type": "code",
   "execution_count": 4,
   "metadata": {},
   "outputs": [],
   "source": [
    "df = pd.read_csv('citilink.csv')"
   ]
  },
  {
   "cell_type": "code",
   "execution_count": 5,
   "metadata": {},
   "outputs": [
    {
     "data": {
      "text/plain": [
       "city               object\n",
       "company_name       object\n",
       "tv                 object\n",
       "tv_count          float64\n",
       "internet_price    float64\n",
       "tv_price          float64\n",
       "together_price    float64\n",
       "flat              float64\n",
       "dtype: object"
      ]
     },
     "execution_count": 5,
     "metadata": {},
     "output_type": "execute_result"
    }
   ],
   "source": [
    "df.dtypes"
   ]
  },
  {
   "cell_type": "code",
   "execution_count": 6,
   "metadata": {},
   "outputs": [],
   "source": [
    "df = df.rename(columns={'company_name' : 'internet'});"
   ]
  },
  {
   "cell_type": "markdown",
   "metadata": {},
   "source": [
    "## Разрез по среднему чеку"
   ]
  },
  {
   "cell_type": "markdown",
   "metadata": {},
   "source": [
    "#### Заменяем пустые значения в столбцах с ценами на 0 для арифметических операций"
   ]
  },
  {
   "cell_type": "code",
   "execution_count": 7,
   "metadata": {},
   "outputs": [],
   "source": [
    "df['internet_price'] = df['internet_price'].fillna(0)\n",
    "df['tv_price'] = df['tv_price'].fillna(0)\n",
    "df['together_price'] = df['together_price'].fillna(0)"
   ]
  },
  {
   "cell_type": "markdown",
   "metadata": {},
   "source": [
    "#### Создаем новую колонку, в которой будет информация о сумме платежей"
   ]
  },
  {
   "cell_type": "code",
   "execution_count": 8,
   "metadata": {},
   "outputs": [],
   "source": [
    "df['total_price'] = df['internet_price'] + df['tv_price'] + df['together_price']"
   ]
  },
  {
   "cell_type": "markdown",
   "metadata": {},
   "source": [
    "Для начала посмотрим на сетку корреляций количества телевизоров, типа жилья и суммы общего чека:"
   ]
  },
  {
   "cell_type": "code",
   "execution_count": 47,
   "metadata": {},
   "outputs": [
    {
     "data": {
      "image/png": "[encoded data removed]",
      "text/plain": [
       "<Figure size 720x720 with 2 Axes>"
      ]
     },
     "metadata": {
      "needs_background": "light"
     },
     "output_type": "display_data"
    }
   ],
   "source": [
    "subdf = df.drop(['internet_price', 'tv_price', 'together_price'], axis=1)\n",
    "corr = subdf.corr()\n",
    "mask = np.triu(np.ones_like(corr, dtype=np.bool))\n",
    "f, ax = plt.subplots(figsize=(10, 10))\n",
    "cmap = sns.diverging_palette(220, 10, as_cmap=True)\n",
    "sns.heatmap(corr, mask=mask, cmap=cmap, vmax=.3, center=0,\n",
    "            square=True, linewidths=.5, cbar_kws={\"shrink\": .5});"
   ]
  },
  {
   "cell_type": "markdown",
   "metadata": {},
   "source": [
    "Мы видим только небольшую зависимость общего чека с количеством телевизоров, но она весьма незначительна"
   ]
  },
  {
   "cell_type": "markdown",
   "metadata": {},
   "source": [
    "#### Сравним средние платежи по городам"
   ]
  },
  {
   "cell_type": "code",
   "execution_count": 9,
   "metadata": {},
   "outputs": [
    {
     "data": {
      "image/png": "[encoded data removed]",
      "text/plain": [
       "<Figure size 432x288 with 2 Axes>"
      ]
     },
     "metadata": {
      "needs_background": "light"
     },
     "output_type": "display_data"
    }
   ],
   "source": [
    "df.groupby('city').boxplot(column='total_price');"
   ]
  },
  {
   "cell_type": "code",
   "execution_count": 10,
   "metadata": {},
   "outputs": [
    {
     "data": {
      "text/plain": [
       "city\n",
       "Город 1    1162.567568\n",
       "Город 2     769.361699\n",
       "Name: total_price, dtype: float64"
      ]
     },
     "execution_count": 10,
     "metadata": {},
     "output_type": "execute_result"
    }
   ],
   "source": [
    "df.groupby('city')['total_price'].mean()"
   ]
  },
  {
   "cell_type": "markdown",
   "metadata": {},
   "source": [
    "А так же посмотрим на распределение по чекам:"
   ]
  },
  {
   "cell_type": "code",
   "execution_count": 11,
   "metadata": {},
   "outputs": [
    {
     "data": {
      "image/png": "[encoded data removed]",
      "text/plain": [
       "<Figure size 432x288 with 1 Axes>"
      ]
     },
     "metadata": {
      "needs_background": "light"
     },
     "output_type": "display_data"
    },
    {
     "data": {
      "image/png": "[encoded data removed]",
      "text/plain": [
       "<Figure size 432x288 with 1 Axes>"
      ]
     },
     "metadata": {
      "needs_background": "light"
     },
     "output_type": "display_data"
    }
   ],
   "source": [
    "hist = df.groupby('city').hist(column='total_price');"
   ]
  },
  {
   "cell_type": "markdown",
   "metadata": {},
   "source": [
    "#### Проверим, являются ли эти различия статистически значимыми при помощи критерия t-Стьюдента. За нулевую гипотезу примем, что средние платежи в обеих генеральных совокупностях равны."
   ]
  },
  {
   "cell_type": "code",
   "execution_count": 12,
   "metadata": {},
   "outputs": [
    {
     "data": {
      "text/plain": [
       "Ttest_indResult(statistic=4.981573538598015, pvalue=1.3027035485631532e-06)"
      ]
     },
     "execution_count": 12,
     "metadata": {},
     "output_type": "execute_result"
    }
   ],
   "source": [
    "from scipy import stats\n",
    "stats.ttest_ind(df[df['city'] == 'Город 1']['total_price'],df[df['city'] == 'Город 2']['total_price'])"
   ]
  },
  {
   "cell_type": "markdown",
   "metadata": {},
   "source": [
    "p-value позволяет утверждать, что различия значимы"
   ]
  },
  {
   "cell_type": "markdown",
   "metadata": {},
   "source": [
    "## Разрез по долям в рынке"
   ]
  },
  {
   "cell_type": "markdown",
   "metadata": {},
   "source": [
    "Взглянем на доли рынка в первом городе:"
   ]
  },
  {
   "cell_type": "code",
   "execution_count": 13,
   "metadata": {},
   "outputs": [
    {
     "data": {
      "text/plain": [
       "Ростелеком    0.653061\n",
       "Мегафон       0.224490\n",
       "МТС           0.061224\n",
       "Теле2         0.040816\n",
       "Билайн        0.020408\n",
       "Name: internet, dtype: float64"
      ]
     },
     "execution_count": 13,
     "metadata": {},
     "output_type": "execute_result"
    }
   ],
   "source": [
    "df[df['city'] == 'Город 1']['internet'].value_counts(normalize=True)"
   ]
  },
  {
   "cell_type": "code",
   "execution_count": 14,
   "metadata": {},
   "outputs": [
    {
     "data": {
      "text/plain": [
       "Триколор       0.701493\n",
       "Антенна        0.149254\n",
       "Ростелеком     0.119403\n",
       "Мегафон        0.014925\n",
       "Спутниковое    0.014925\n",
       "Name: tv, dtype: float64"
      ]
     },
     "execution_count": 14,
     "metadata": {},
     "output_type": "execute_result"
    }
   ],
   "source": [
    "df[df['city'] == 'Город 1']['tv'].value_counts(normalize=True)"
   ]
  },
  {
   "cell_type": "markdown",
   "metadata": {},
   "source": [
    "Теперь во втором городе"
   ]
  },
  {
   "cell_type": "code",
   "execution_count": 15,
   "metadata": {},
   "outputs": [
    {
     "data": {
      "text/plain": [
       "Ростелеком     0.800000\n",
       "ТТК            0.086957\n",
       "Инфотелеком    0.078261\n",
       "Мобильный      0.017391\n",
       "Теле2          0.008696\n",
       "Модем          0.008696\n",
       "Name: internet, dtype: float64"
      ]
     },
     "execution_count": 15,
     "metadata": {},
     "output_type": "execute_result"
    }
   ],
   "source": [
    "df[df['city'] == 'Город 2']['internet'].value_counts(normalize=True)"
   ]
  },
  {
   "cell_type": "code",
   "execution_count": 16,
   "metadata": {},
   "outputs": [
    {
     "data": {
      "text/plain": [
       "Ростелеком     0.485294\n",
       "Инфотелеком    0.213235\n",
       "Кабельное      0.161765\n",
       "Антенна        0.073529\n",
       "Триколор       0.029412\n",
       "ТТК            0.014706\n",
       "Спутниковое    0.014706\n",
       "Цифровое       0.007353\n",
       "Name: tv, dtype: float64"
      ]
     },
     "execution_count": 16,
     "metadata": {},
     "output_type": "execute_result"
    }
   ],
   "source": [
    "df[df['city'] == 'Город 2']['tv'].value_counts(normalize=True)"
   ]
  },
  {
   "cell_type": "markdown",
   "metadata": {},
   "source": [
    "Мы можем заметить, что в городах сильные различия по долям ТВ-операторов. В первом городе гораздо популярнее спутниковое ТВ (Триколор, спутниковое). Возможно, значимые различия по среднему чеку обусловлены именно этим. Взглянем, сколько в среднем тратят на ТВ."
   ]
  },
  {
   "cell_type": "code",
   "execution_count": 17,
   "metadata": {},
   "outputs": [
    {
     "name": "stdout",
     "output_type": "stream",
     "text": [
      "В городе 1 средние расходы отдельно на ТВ:  1214.8936170212767\n",
      "В городе 2 средние расходы отдельно на ТВ:  375.84904905660375\n"
     ]
    }
   ],
   "source": [
    "print('В городе 1 средние расходы отдельно на ТВ: ', \\\n",
    "      df[(df['tv_price'] > 0) & (df['city'] == 'Город 1')]['tv_price'].mean())\n",
    "print('В городе 2 средние расходы отдельно на ТВ: ', \\\n",
    "      df[(df['tv_price'] > 0) & (df['city'] == 'Город 2')]['tv_price'].mean())"
   ]
  },
  {
   "cell_type": "code",
   "execution_count": 18,
   "metadata": {},
   "outputs": [
    {
     "data": {
      "image/png": "[encoded data removed]",
      "text/plain": [
       "<Figure size 432x288 with 2 Axes>"
      ]
     },
     "metadata": {
      "needs_background": "light"
     },
     "output_type": "display_data"
    }
   ],
   "source": [
    "df[df['tv_price'] > 0].groupby('city').boxplot(column='tv_price');"
   ]
  },
  {
   "cell_type": "markdown",
   "metadata": {},
   "source": [
    "Взглянем так же на данные по интернету:"
   ]
  },
  {
   "cell_type": "code",
   "execution_count": 19,
   "metadata": {},
   "outputs": [
    {
     "name": "stdout",
     "output_type": "stream",
     "text": [
      "В городе 1 средние расходы отдельно на интернет:  549.7435897435897\n",
      "В городе 2 средние расходы отдельно на интернет:  497.3809523809524\n"
     ]
    }
   ],
   "source": [
    "print('В городе 1 средние расходы отдельно на интернет: ', \\\n",
    "      df[(df['internet_price'] > 0) & (df['city'] == 'Город 1')]['internet_price'].mean())\n",
    "print('В городе 2 средние расходы отдельно на интернет: ', \\\n",
    "      df[(df['internet_price'] > 0) & (df['city'] == 'Город 2')]['internet_price'].mean())"
   ]
  },
  {
   "cell_type": "code",
   "execution_count": 20,
   "metadata": {},
   "outputs": [
    {
     "data": {
      "image/png": "[encoded data removed]",
      "text/plain": [
       "<Figure size 432x288 with 2 Axes>"
      ]
     },
     "metadata": {
      "needs_background": "light"
     },
     "output_type": "display_data"
    }
   ],
   "source": [
    "df[df['internet_price'] > 0].groupby('city').boxplot(column='internet_price');"
   ]
  },
  {
   "cell_type": "markdown",
   "metadata": {},
   "source": [
    "Мы можем заметить, что тут различия не такие значимые.\n",
    "Таким образом, можем сделать вывод, что в разрезе ниша ТВ-услуг в первом городе наиболее нишевая."
   ]
  },
  {
   "cell_type": "markdown",
   "metadata": {},
   "source": [
    "## Разрез по проникновению услуг"
   ]
  },
  {
   "cell_type": "markdown",
   "metadata": {},
   "source": [
    "Доля опрошенных с подключенными усоугами в городах:"
   ]
  },
  {
   "cell_type": "code",
   "execution_count": 21,
   "metadata": {},
   "outputs": [
    {
     "name": "stdout",
     "output_type": "stream",
     "text": [
      "Доля с подключенным интернетом в городе 1:  0.49\n",
      "Доля с подключенным интернетом в городе 2:  0.77\n",
      "Доля с подключенным ТВ в городе 1:  0.9\n",
      "Доля с подключенным ТВ в городе 2:  0.96\n"
     ]
    }
   ],
   "source": [
    "print('Доля с подключенным интернетом в городе 1: ',\n",
    "round(1 - (df[df['city'] == 'Город 1']['internet'].fillna(0).isin([0]).sum() / \n",
    "           df[df['city'] == 'Город 1']['internet'].count()),2))\n",
    "\n",
    "print('Доля с подключенным интернетом в городе 2: ',\n",
    "round(1 - (df[df['city'] == 'Город 2']['internet'].fillna(0).isin([0]).sum() / \n",
    "           df[df['city'] == 'Город 2']['internet'].count()),2))\n",
    "\n",
    "print('Доля с подключенным ТВ в городе 1: ',\n",
    "round(1 - (df[df['city'] == 'Город 1']['tv'].fillna(0).isin([0]).sum() / \n",
    "           df[df['city'] == 'Город 1']['tv'].count()),2))\n",
    "\n",
    "print('Доля с подключенным ТВ в городе 2: ',\n",
    "round(1 - (df[df['city'] == 'Город 2']['tv'].fillna(0).isin([0]).sum() / \n",
    "           df[df['city'] == 'Город 2']['tv'].count()),2))"
   ]
  },
  {
   "cell_type": "markdown",
   "metadata": {},
   "source": [
    "Вывод: в первом городе намного меньше проникновение услуг"
   ]
  },
  {
   "cell_type": "markdown",
   "metadata": {},
   "source": [
    "## Остальные показатели"
   ]
  },
  {
   "cell_type": "markdown",
   "metadata": {},
   "source": [
    "### Посмотрим на количество телевизоров в среднем в двух городах"
   ]
  },
  {
   "cell_type": "markdown",
   "metadata": {},
   "source": [
    "Для этого для начала пропущенные значения заполним нулями:"
   ]
  },
  {
   "cell_type": "code",
   "execution_count": 26,
   "metadata": {},
   "outputs": [],
   "source": [
    "df['tv_count'] = df['tv_count'].fillna(0)"
   ]
  },
  {
   "cell_type": "code",
   "execution_count": 30,
   "metadata": {},
   "outputs": [
    {
     "name": "stdout",
     "output_type": "stream",
     "text": [
      "Среднее количество телевизоров в 1 городе:  1.41\n",
      "Среднее количество телевизоров в 2 городе:  1.84\n"
     ]
    }
   ],
   "source": [
    "print('Среднее количество телевизоров в 1 городе: ', round(df[df['city'] == 'Город 1']['tv_count'].mean(),2))\n",
    "print('Среднее количество телевизоров в 2 городе: ', round(df[df['city'] == 'Город 2']['tv_count'].mean(),2))"
   ]
  },
  {
   "cell_type": "markdown",
   "metadata": {},
   "source": [
    "Посмотрим, как взаимосвязаны количество телевизоров и общий чек:"
   ]
  },
  {
   "cell_type": "code",
   "execution_count": 38,
   "metadata": {},
   "outputs": [
    {
     "data": {
      "image/png": "[encoded data removed]",
      "text/plain": [
       "<Figure size 432x288 with 1 Axes>"
      ]
     },
     "metadata": {
      "needs_background": "light"
     },
     "output_type": "display_data"
    }
   ],
   "source": [
    "sns.scatterplot(x='tv_count', y='total_price', hue='city', data=df);"
   ]
  },
  {
   "cell_type": "markdown",
   "metadata": {},
   "source": [
    "Зависимость среднего чека от типа дома:"
   ]
  },
  {
   "cell_type": "code",
   "execution_count": 49,
   "metadata": {},
   "outputs": [
    {
     "name": "stdout",
     "output_type": "stream",
     "text": [
      "Средний чек в частных домах:  1023.33\n",
      "Среднее чек в квартирах:  984.82\n"
     ]
    }
   ],
   "source": [
    "print('Средний чек в частных домах: ', round(df[df['flat'] == 0]['total_price'].mean(),2))\n",
    "print('Среднее чек в квартирах: ', round(df[df['flat'] == 1]['total_price'].mean(),2))"
   ]
  },
  {
   "cell_type": "markdown",
   "metadata": {},
   "source": [
    "Большие различия в этих разрезах мы не нашли."
   ]
  },
  {
   "cell_type": "markdown",
   "metadata": {},
   "source": [
    "### Вывод:"
   ]
  },
  {
   "cell_type": "markdown",
   "metadata": {},
   "source": [
    "Мы нашли сильную разницу в средней стоимости ТВ-услуг в 2 городах (Город 1 - 1162.56, Город 2 - 769.36). Предположили, что это связано с тем, что в городе 1 слабо развито кабельное ТВ, которое сильно дешевле спутникового.\n",
    "Так же заметили, что городе 1 гораздо слабее проникновение интернет услуг (49% против 77%).\n",
    "В связи с этими факторами можем предположить, что оператору гораздо перспективней продвижение в городе 1."
   ]
  }
 ],
 "metadata": {
  "kernelspec": {
   "display_name": "Python 3",
   "language": "python",
   "name": "python3"
  },
  "language_info": {
   "codemirror_mode": {
    "name": "ipython",
    "version": 3
   },
   "file_extension": ".py",
   "mimetype": "text/x-python",
   "name": "python",
   "nbconvert_exporter": "python",
   "pygments_lexer": "ipython3",
   "version": "3.7.4"
  }
 },
 "nbformat": 4,
 "nbformat_minor": 2
}
